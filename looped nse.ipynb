{
 "cells": [
  {
   "cell_type": "code",
   "execution_count": 32,
   "metadata": {
    "scrolled": false
   },
   "outputs": [
    {
     "name": "stdout",
     "output_type": "stream",
     "text": [
      "50\n"
     ]
    },
    {
     "ename": "KeyboardInterrupt",
     "evalue": "",
     "output_type": "error",
     "traceback": [
      "\u001b[1;31m---------------------------------------------------------------------------\u001b[0m",
      "\u001b[1;31mKeyboardInterrupt\u001b[0m                         Traceback (most recent call last)",
      "\u001b[1;32m<ipython-input-32-a6cba4bcae80>\u001b[0m in \u001b[0;36m<module>\u001b[1;34m\u001b[0m\n\u001b[0;32m     17\u001b[0m     \u001b[1;32mfor\u001b[0m \u001b[0mi\u001b[0m \u001b[1;32min\u001b[0m \u001b[0ma\u001b[0m\u001b[1;33m:\u001b[0m\u001b[1;33m\u001b[0m\u001b[1;33m\u001b[0m\u001b[0m\n\u001b[0;32m     18\u001b[0m         \u001b[0mtempstart\u001b[0m\u001b[1;33m=\u001b[0m\u001b[0mtime\u001b[0m\u001b[1;33m.\u001b[0m\u001b[0mtime\u001b[0m\u001b[1;33m(\u001b[0m\u001b[1;33m)\u001b[0m\u001b[1;33m\u001b[0m\u001b[1;33m\u001b[0m\u001b[0m\n\u001b[1;32m---> 19\u001b[1;33m         \u001b[0mresult\u001b[0m\u001b[1;33m=\u001b[0m\u001b[0mnse\u001b[0m\u001b[1;33m.\u001b[0m\u001b[0mget_quote\u001b[0m\u001b[1;33m(\u001b[0m\u001b[0mi\u001b[0m\u001b[1;33m)\u001b[0m\u001b[1;33m\u001b[0m\u001b[1;33m\u001b[0m\u001b[0m\n\u001b[0m\u001b[0;32m     20\u001b[0m         \u001b[0mtemp\u001b[0m\u001b[1;33m=\u001b[0m\u001b[1;33m{\u001b[0m\u001b[1;33m}\u001b[0m\u001b[1;33m\u001b[0m\u001b[1;33m\u001b[0m\u001b[0m\n\u001b[0;32m     21\u001b[0m         \u001b[1;32mfor\u001b[0m \u001b[0mitera\u001b[0m \u001b[1;32min\u001b[0m \u001b[0mvalues_list\u001b[0m\u001b[1;33m:\u001b[0m\u001b[1;33m\u001b[0m\u001b[1;33m\u001b[0m\u001b[0m\n",
      "\u001b[1;32mD:\\softwares\\newfolder\\lib\\site-packages\\nsetools\\nse.py\u001b[0m in \u001b[0;36mget_quote\u001b[1;34m(self, code, as_json)\u001b[0m\n\u001b[0;32m    155\u001b[0m             \u001b[1;31m# this can raise HTTPError and URLError, but we are not handling it\u001b[0m\u001b[1;33m\u001b[0m\u001b[1;33m\u001b[0m\u001b[1;33m\u001b[0m\u001b[0m\n\u001b[0;32m    156\u001b[0m             \u001b[1;31m# north bound APIs should use it for exception handling\u001b[0m\u001b[1;33m\u001b[0m\u001b[1;33m\u001b[0m\u001b[1;33m\u001b[0m\u001b[0m\n\u001b[1;32m--> 157\u001b[1;33m             \u001b[0mres\u001b[0m \u001b[1;33m=\u001b[0m \u001b[0mself\u001b[0m\u001b[1;33m.\u001b[0m\u001b[0mopener\u001b[0m\u001b[1;33m.\u001b[0m\u001b[0mopen\u001b[0m\u001b[1;33m(\u001b[0m\u001b[0mreq\u001b[0m\u001b[1;33m)\u001b[0m\u001b[1;33m\u001b[0m\u001b[1;33m\u001b[0m\u001b[0m\n\u001b[0m\u001b[0;32m    158\u001b[0m \u001b[1;33m\u001b[0m\u001b[0m\n\u001b[0;32m    159\u001b[0m             \u001b[1;31m# for py3 compat covert byte file like object to\u001b[0m\u001b[1;33m\u001b[0m\u001b[1;33m\u001b[0m\u001b[1;33m\u001b[0m\u001b[0m\n",
      "\u001b[1;32mD:\\softwares\\newfolder\\lib\\urllib\\request.py\u001b[0m in \u001b[0;36mopen\u001b[1;34m(self, fullurl, data, timeout)\u001b[0m\n\u001b[0;32m    523\u001b[0m \u001b[1;33m\u001b[0m\u001b[0m\n\u001b[0;32m    524\u001b[0m         \u001b[0msys\u001b[0m\u001b[1;33m.\u001b[0m\u001b[0maudit\u001b[0m\u001b[1;33m(\u001b[0m\u001b[1;34m'urllib.Request'\u001b[0m\u001b[1;33m,\u001b[0m \u001b[0mreq\u001b[0m\u001b[1;33m.\u001b[0m\u001b[0mfull_url\u001b[0m\u001b[1;33m,\u001b[0m \u001b[0mreq\u001b[0m\u001b[1;33m.\u001b[0m\u001b[0mdata\u001b[0m\u001b[1;33m,\u001b[0m \u001b[0mreq\u001b[0m\u001b[1;33m.\u001b[0m\u001b[0mheaders\u001b[0m\u001b[1;33m,\u001b[0m \u001b[0mreq\u001b[0m\u001b[1;33m.\u001b[0m\u001b[0mget_method\u001b[0m\u001b[1;33m(\u001b[0m\u001b[1;33m)\u001b[0m\u001b[1;33m)\u001b[0m\u001b[1;33m\u001b[0m\u001b[1;33m\u001b[0m\u001b[0m\n\u001b[1;32m--> 525\u001b[1;33m         \u001b[0mresponse\u001b[0m \u001b[1;33m=\u001b[0m \u001b[0mself\u001b[0m\u001b[1;33m.\u001b[0m\u001b[0m_open\u001b[0m\u001b[1;33m(\u001b[0m\u001b[0mreq\u001b[0m\u001b[1;33m,\u001b[0m \u001b[0mdata\u001b[0m\u001b[1;33m)\u001b[0m\u001b[1;33m\u001b[0m\u001b[1;33m\u001b[0m\u001b[0m\n\u001b[0m\u001b[0;32m    526\u001b[0m \u001b[1;33m\u001b[0m\u001b[0m\n\u001b[0;32m    527\u001b[0m         \u001b[1;31m# post-process response\u001b[0m\u001b[1;33m\u001b[0m\u001b[1;33m\u001b[0m\u001b[1;33m\u001b[0m\u001b[0m\n",
      "\u001b[1;32mD:\\softwares\\newfolder\\lib\\urllib\\request.py\u001b[0m in \u001b[0;36m_open\u001b[1;34m(self, req, data)\u001b[0m\n\u001b[0;32m    540\u001b[0m \u001b[1;33m\u001b[0m\u001b[0m\n\u001b[0;32m    541\u001b[0m         \u001b[0mprotocol\u001b[0m \u001b[1;33m=\u001b[0m \u001b[0mreq\u001b[0m\u001b[1;33m.\u001b[0m\u001b[0mtype\u001b[0m\u001b[1;33m\u001b[0m\u001b[1;33m\u001b[0m\u001b[0m\n\u001b[1;32m--> 542\u001b[1;33m         result = self._call_chain(self.handle_open, protocol, protocol +\n\u001b[0m\u001b[0;32m    543\u001b[0m                                   '_open', req)\n\u001b[0;32m    544\u001b[0m         \u001b[1;32mif\u001b[0m \u001b[0mresult\u001b[0m\u001b[1;33m:\u001b[0m\u001b[1;33m\u001b[0m\u001b[1;33m\u001b[0m\u001b[0m\n",
      "\u001b[1;32mD:\\softwares\\newfolder\\lib\\urllib\\request.py\u001b[0m in \u001b[0;36m_call_chain\u001b[1;34m(self, chain, kind, meth_name, *args)\u001b[0m\n\u001b[0;32m    500\u001b[0m         \u001b[1;32mfor\u001b[0m \u001b[0mhandler\u001b[0m \u001b[1;32min\u001b[0m \u001b[0mhandlers\u001b[0m\u001b[1;33m:\u001b[0m\u001b[1;33m\u001b[0m\u001b[1;33m\u001b[0m\u001b[0m\n\u001b[0;32m    501\u001b[0m             \u001b[0mfunc\u001b[0m \u001b[1;33m=\u001b[0m \u001b[0mgetattr\u001b[0m\u001b[1;33m(\u001b[0m\u001b[0mhandler\u001b[0m\u001b[1;33m,\u001b[0m \u001b[0mmeth_name\u001b[0m\u001b[1;33m)\u001b[0m\u001b[1;33m\u001b[0m\u001b[1;33m\u001b[0m\u001b[0m\n\u001b[1;32m--> 502\u001b[1;33m             \u001b[0mresult\u001b[0m \u001b[1;33m=\u001b[0m \u001b[0mfunc\u001b[0m\u001b[1;33m(\u001b[0m\u001b[1;33m*\u001b[0m\u001b[0margs\u001b[0m\u001b[1;33m)\u001b[0m\u001b[1;33m\u001b[0m\u001b[1;33m\u001b[0m\u001b[0m\n\u001b[0m\u001b[0;32m    503\u001b[0m             \u001b[1;32mif\u001b[0m \u001b[0mresult\u001b[0m \u001b[1;32mis\u001b[0m \u001b[1;32mnot\u001b[0m \u001b[1;32mNone\u001b[0m\u001b[1;33m:\u001b[0m\u001b[1;33m\u001b[0m\u001b[1;33m\u001b[0m\u001b[0m\n\u001b[0;32m    504\u001b[0m                 \u001b[1;32mreturn\u001b[0m \u001b[0mresult\u001b[0m\u001b[1;33m\u001b[0m\u001b[1;33m\u001b[0m\u001b[0m\n",
      "\u001b[1;32mD:\\softwares\\newfolder\\lib\\urllib\\request.py\u001b[0m in \u001b[0;36mhttps_open\u001b[1;34m(self, req)\u001b[0m\n\u001b[0;32m   1391\u001b[0m \u001b[1;33m\u001b[0m\u001b[0m\n\u001b[0;32m   1392\u001b[0m         \u001b[1;32mdef\u001b[0m \u001b[0mhttps_open\u001b[0m\u001b[1;33m(\u001b[0m\u001b[0mself\u001b[0m\u001b[1;33m,\u001b[0m \u001b[0mreq\u001b[0m\u001b[1;33m)\u001b[0m\u001b[1;33m:\u001b[0m\u001b[1;33m\u001b[0m\u001b[1;33m\u001b[0m\u001b[0m\n\u001b[1;32m-> 1393\u001b[1;33m             return self.do_open(http.client.HTTPSConnection, req,\n\u001b[0m\u001b[0;32m   1394\u001b[0m                 context=self._context, check_hostname=self._check_hostname)\n\u001b[0;32m   1395\u001b[0m \u001b[1;33m\u001b[0m\u001b[0m\n",
      "\u001b[1;32mD:\\softwares\\newfolder\\lib\\urllib\\request.py\u001b[0m in \u001b[0;36mdo_open\u001b[1;34m(self, http_class, req, **http_conn_args)\u001b[0m\n\u001b[0;32m   1352\u001b[0m             \u001b[1;32mexcept\u001b[0m \u001b[0mOSError\u001b[0m \u001b[1;32mas\u001b[0m \u001b[0merr\u001b[0m\u001b[1;33m:\u001b[0m \u001b[1;31m# timeout error\u001b[0m\u001b[1;33m\u001b[0m\u001b[1;33m\u001b[0m\u001b[0m\n\u001b[0;32m   1353\u001b[0m                 \u001b[1;32mraise\u001b[0m \u001b[0mURLError\u001b[0m\u001b[1;33m(\u001b[0m\u001b[0merr\u001b[0m\u001b[1;33m)\u001b[0m\u001b[1;33m\u001b[0m\u001b[1;33m\u001b[0m\u001b[0m\n\u001b[1;32m-> 1354\u001b[1;33m             \u001b[0mr\u001b[0m \u001b[1;33m=\u001b[0m \u001b[0mh\u001b[0m\u001b[1;33m.\u001b[0m\u001b[0mgetresponse\u001b[0m\u001b[1;33m(\u001b[0m\u001b[1;33m)\u001b[0m\u001b[1;33m\u001b[0m\u001b[1;33m\u001b[0m\u001b[0m\n\u001b[0m\u001b[0;32m   1355\u001b[0m         \u001b[1;32mexcept\u001b[0m\u001b[1;33m:\u001b[0m\u001b[1;33m\u001b[0m\u001b[1;33m\u001b[0m\u001b[0m\n\u001b[0;32m   1356\u001b[0m             \u001b[0mh\u001b[0m\u001b[1;33m.\u001b[0m\u001b[0mclose\u001b[0m\u001b[1;33m(\u001b[0m\u001b[1;33m)\u001b[0m\u001b[1;33m\u001b[0m\u001b[1;33m\u001b[0m\u001b[0m\n",
      "\u001b[1;32mD:\\softwares\\newfolder\\lib\\http\\client.py\u001b[0m in \u001b[0;36mgetresponse\u001b[1;34m(self)\u001b[0m\n\u001b[0;32m   1330\u001b[0m         \u001b[1;32mtry\u001b[0m\u001b[1;33m:\u001b[0m\u001b[1;33m\u001b[0m\u001b[1;33m\u001b[0m\u001b[0m\n\u001b[0;32m   1331\u001b[0m             \u001b[1;32mtry\u001b[0m\u001b[1;33m:\u001b[0m\u001b[1;33m\u001b[0m\u001b[1;33m\u001b[0m\u001b[0m\n\u001b[1;32m-> 1332\u001b[1;33m                 \u001b[0mresponse\u001b[0m\u001b[1;33m.\u001b[0m\u001b[0mbegin\u001b[0m\u001b[1;33m(\u001b[0m\u001b[1;33m)\u001b[0m\u001b[1;33m\u001b[0m\u001b[1;33m\u001b[0m\u001b[0m\n\u001b[0m\u001b[0;32m   1333\u001b[0m             \u001b[1;32mexcept\u001b[0m \u001b[0mConnectionError\u001b[0m\u001b[1;33m:\u001b[0m\u001b[1;33m\u001b[0m\u001b[1;33m\u001b[0m\u001b[0m\n\u001b[0;32m   1334\u001b[0m                 \u001b[0mself\u001b[0m\u001b[1;33m.\u001b[0m\u001b[0mclose\u001b[0m\u001b[1;33m(\u001b[0m\u001b[1;33m)\u001b[0m\u001b[1;33m\u001b[0m\u001b[1;33m\u001b[0m\u001b[0m\n",
      "\u001b[1;32mD:\\softwares\\newfolder\\lib\\http\\client.py\u001b[0m in \u001b[0;36mbegin\u001b[1;34m(self)\u001b[0m\n\u001b[0;32m    301\u001b[0m         \u001b[1;31m# read until we get a non-100 response\u001b[0m\u001b[1;33m\u001b[0m\u001b[1;33m\u001b[0m\u001b[1;33m\u001b[0m\u001b[0m\n\u001b[0;32m    302\u001b[0m         \u001b[1;32mwhile\u001b[0m \u001b[1;32mTrue\u001b[0m\u001b[1;33m:\u001b[0m\u001b[1;33m\u001b[0m\u001b[1;33m\u001b[0m\u001b[0m\n\u001b[1;32m--> 303\u001b[1;33m             \u001b[0mversion\u001b[0m\u001b[1;33m,\u001b[0m \u001b[0mstatus\u001b[0m\u001b[1;33m,\u001b[0m \u001b[0mreason\u001b[0m \u001b[1;33m=\u001b[0m \u001b[0mself\u001b[0m\u001b[1;33m.\u001b[0m\u001b[0m_read_status\u001b[0m\u001b[1;33m(\u001b[0m\u001b[1;33m)\u001b[0m\u001b[1;33m\u001b[0m\u001b[1;33m\u001b[0m\u001b[0m\n\u001b[0m\u001b[0;32m    304\u001b[0m             \u001b[1;32mif\u001b[0m \u001b[0mstatus\u001b[0m \u001b[1;33m!=\u001b[0m \u001b[0mCONTINUE\u001b[0m\u001b[1;33m:\u001b[0m\u001b[1;33m\u001b[0m\u001b[1;33m\u001b[0m\u001b[0m\n\u001b[0;32m    305\u001b[0m                 \u001b[1;32mbreak\u001b[0m\u001b[1;33m\u001b[0m\u001b[1;33m\u001b[0m\u001b[0m\n",
      "\u001b[1;32mD:\\softwares\\newfolder\\lib\\http\\client.py\u001b[0m in \u001b[0;36m_read_status\u001b[1;34m(self)\u001b[0m\n\u001b[0;32m    262\u001b[0m \u001b[1;33m\u001b[0m\u001b[0m\n\u001b[0;32m    263\u001b[0m     \u001b[1;32mdef\u001b[0m \u001b[0m_read_status\u001b[0m\u001b[1;33m(\u001b[0m\u001b[0mself\u001b[0m\u001b[1;33m)\u001b[0m\u001b[1;33m:\u001b[0m\u001b[1;33m\u001b[0m\u001b[1;33m\u001b[0m\u001b[0m\n\u001b[1;32m--> 264\u001b[1;33m         \u001b[0mline\u001b[0m \u001b[1;33m=\u001b[0m \u001b[0mstr\u001b[0m\u001b[1;33m(\u001b[0m\u001b[0mself\u001b[0m\u001b[1;33m.\u001b[0m\u001b[0mfp\u001b[0m\u001b[1;33m.\u001b[0m\u001b[0mreadline\u001b[0m\u001b[1;33m(\u001b[0m\u001b[0m_MAXLINE\u001b[0m \u001b[1;33m+\u001b[0m \u001b[1;36m1\u001b[0m\u001b[1;33m)\u001b[0m\u001b[1;33m,\u001b[0m \u001b[1;34m\"iso-8859-1\"\u001b[0m\u001b[1;33m)\u001b[0m\u001b[1;33m\u001b[0m\u001b[1;33m\u001b[0m\u001b[0m\n\u001b[0m\u001b[0;32m    265\u001b[0m         \u001b[1;32mif\u001b[0m \u001b[0mlen\u001b[0m\u001b[1;33m(\u001b[0m\u001b[0mline\u001b[0m\u001b[1;33m)\u001b[0m \u001b[1;33m>\u001b[0m \u001b[0m_MAXLINE\u001b[0m\u001b[1;33m:\u001b[0m\u001b[1;33m\u001b[0m\u001b[1;33m\u001b[0m\u001b[0m\n\u001b[0;32m    266\u001b[0m             \u001b[1;32mraise\u001b[0m \u001b[0mLineTooLong\u001b[0m\u001b[1;33m(\u001b[0m\u001b[1;34m\"status line\"\u001b[0m\u001b[1;33m)\u001b[0m\u001b[1;33m\u001b[0m\u001b[1;33m\u001b[0m\u001b[0m\n",
      "\u001b[1;32mD:\\softwares\\newfolder\\lib\\socket.py\u001b[0m in \u001b[0;36mreadinto\u001b[1;34m(self, b)\u001b[0m\n\u001b[0;32m    667\u001b[0m         \u001b[1;32mwhile\u001b[0m \u001b[1;32mTrue\u001b[0m\u001b[1;33m:\u001b[0m\u001b[1;33m\u001b[0m\u001b[1;33m\u001b[0m\u001b[0m\n\u001b[0;32m    668\u001b[0m             \u001b[1;32mtry\u001b[0m\u001b[1;33m:\u001b[0m\u001b[1;33m\u001b[0m\u001b[1;33m\u001b[0m\u001b[0m\n\u001b[1;32m--> 669\u001b[1;33m                 \u001b[1;32mreturn\u001b[0m \u001b[0mself\u001b[0m\u001b[1;33m.\u001b[0m\u001b[0m_sock\u001b[0m\u001b[1;33m.\u001b[0m\u001b[0mrecv_into\u001b[0m\u001b[1;33m(\u001b[0m\u001b[0mb\u001b[0m\u001b[1;33m)\u001b[0m\u001b[1;33m\u001b[0m\u001b[1;33m\u001b[0m\u001b[0m\n\u001b[0m\u001b[0;32m    670\u001b[0m             \u001b[1;32mexcept\u001b[0m \u001b[0mtimeout\u001b[0m\u001b[1;33m:\u001b[0m\u001b[1;33m\u001b[0m\u001b[1;33m\u001b[0m\u001b[0m\n\u001b[0;32m    671\u001b[0m                 \u001b[0mself\u001b[0m\u001b[1;33m.\u001b[0m\u001b[0m_timeout_occurred\u001b[0m \u001b[1;33m=\u001b[0m \u001b[1;32mTrue\u001b[0m\u001b[1;33m\u001b[0m\u001b[1;33m\u001b[0m\u001b[0m\n",
      "\u001b[1;32mD:\\softwares\\newfolder\\lib\\ssl.py\u001b[0m in \u001b[0;36mrecv_into\u001b[1;34m(self, buffer, nbytes, flags)\u001b[0m\n\u001b[0;32m   1239\u001b[0m                   \u001b[1;34m\"non-zero flags not allowed in calls to recv_into() on %s\"\u001b[0m \u001b[1;33m%\u001b[0m\u001b[1;33m\u001b[0m\u001b[1;33m\u001b[0m\u001b[0m\n\u001b[0;32m   1240\u001b[0m                   self.__class__)\n\u001b[1;32m-> 1241\u001b[1;33m             \u001b[1;32mreturn\u001b[0m \u001b[0mself\u001b[0m\u001b[1;33m.\u001b[0m\u001b[0mread\u001b[0m\u001b[1;33m(\u001b[0m\u001b[0mnbytes\u001b[0m\u001b[1;33m,\u001b[0m \u001b[0mbuffer\u001b[0m\u001b[1;33m)\u001b[0m\u001b[1;33m\u001b[0m\u001b[1;33m\u001b[0m\u001b[0m\n\u001b[0m\u001b[0;32m   1242\u001b[0m         \u001b[1;32melse\u001b[0m\u001b[1;33m:\u001b[0m\u001b[1;33m\u001b[0m\u001b[1;33m\u001b[0m\u001b[0m\n\u001b[0;32m   1243\u001b[0m             \u001b[1;32mreturn\u001b[0m \u001b[0msuper\u001b[0m\u001b[1;33m(\u001b[0m\u001b[1;33m)\u001b[0m\u001b[1;33m.\u001b[0m\u001b[0mrecv_into\u001b[0m\u001b[1;33m(\u001b[0m\u001b[0mbuffer\u001b[0m\u001b[1;33m,\u001b[0m \u001b[0mnbytes\u001b[0m\u001b[1;33m,\u001b[0m \u001b[0mflags\u001b[0m\u001b[1;33m)\u001b[0m\u001b[1;33m\u001b[0m\u001b[1;33m\u001b[0m\u001b[0m\n",
      "\u001b[1;32mD:\\softwares\\newfolder\\lib\\ssl.py\u001b[0m in \u001b[0;36mread\u001b[1;34m(self, len, buffer)\u001b[0m\n\u001b[0;32m   1097\u001b[0m         \u001b[1;32mtry\u001b[0m\u001b[1;33m:\u001b[0m\u001b[1;33m\u001b[0m\u001b[1;33m\u001b[0m\u001b[0m\n\u001b[0;32m   1098\u001b[0m             \u001b[1;32mif\u001b[0m \u001b[0mbuffer\u001b[0m \u001b[1;32mis\u001b[0m \u001b[1;32mnot\u001b[0m \u001b[1;32mNone\u001b[0m\u001b[1;33m:\u001b[0m\u001b[1;33m\u001b[0m\u001b[1;33m\u001b[0m\u001b[0m\n\u001b[1;32m-> 1099\u001b[1;33m                 \u001b[1;32mreturn\u001b[0m \u001b[0mself\u001b[0m\u001b[1;33m.\u001b[0m\u001b[0m_sslobj\u001b[0m\u001b[1;33m.\u001b[0m\u001b[0mread\u001b[0m\u001b[1;33m(\u001b[0m\u001b[0mlen\u001b[0m\u001b[1;33m,\u001b[0m \u001b[0mbuffer\u001b[0m\u001b[1;33m)\u001b[0m\u001b[1;33m\u001b[0m\u001b[1;33m\u001b[0m\u001b[0m\n\u001b[0m\u001b[0;32m   1100\u001b[0m             \u001b[1;32melse\u001b[0m\u001b[1;33m:\u001b[0m\u001b[1;33m\u001b[0m\u001b[1;33m\u001b[0m\u001b[0m\n\u001b[0;32m   1101\u001b[0m                 \u001b[1;32mreturn\u001b[0m \u001b[0mself\u001b[0m\u001b[1;33m.\u001b[0m\u001b[0m_sslobj\u001b[0m\u001b[1;33m.\u001b[0m\u001b[0mread\u001b[0m\u001b[1;33m(\u001b[0m\u001b[0mlen\u001b[0m\u001b[1;33m)\u001b[0m\u001b[1;33m\u001b[0m\u001b[1;33m\u001b[0m\u001b[0m\n",
      "\u001b[1;31mKeyboardInterrupt\u001b[0m: "
     ]
    }
   ],
   "source": [
    "from nsetools import Nse\n",
    "import time\n",
    "import pymongo\n",
    "from IPython.display import clear_output\n",
    "import datetime\n",
    "client = pymongo.MongoClient(\"127.0.0.1\",27017)\n",
    "db = client.stocks\n",
    "\n",
    "values_list=['symbol','open','dayHigh','dayLow','previousClose','lastPrice','change','pChange','quantityTraded','totalTradedValue','high52','low52']\n",
    "company_list=['ADANIPORTS','BPCL','COALINDIA','NTPC','SUNPHARMA','HINDALCO','RELIANCE','TATASTEEL','GAIL','NESTLEIND','SBILIFE','GRASIM','TCS','DIVISLAB','IOC','WIPRO','TATAMOTORS','ITC','TECHM','HDFCLIFE','SBIN','ONGC','UPL','HCLTECH','M&M','JSWSTEEL','POWERGRID','SHREECEM','LT','HDFCBANK','ULTRACEMCO','AXISBANK','INDUSINDBK','HDFC','ASIANPAINT','CIPLA','TITAN','DRREDDY','BAJAJFINSV','INFY','BAJAJ-AUTO','BRITANNIA','ICICIBANK','KOTAKBANK','HINDUNILVR','BAJFINANCE','EICHERMOT','MARUTI','HEROMOTOCO','BHARATIARTL']\n",
    "nse=Nse()\n",
    "a=['ADANIPORTS','BPCL','COALINDIA','NTPC','SUNPHARMA','HINDALCO','RELIANCE','TATASTEEL','GAIL','NESTLEIND','SBILIFE','GRASIM','TCS','DIVISLAB','IOC','WIPRO','TATAMOTORS','ITC','TECHM','HDFCLIFE','SBIN','ONGC','UPL','HCLTECH','M&M','JSWSTEEL','POWERGRID','SHREECEM','LT','HDFCBANK','ULTRACEMCO','AXISBANK','INDUSINDBK','HDFC','ASIANPAINT','CIPLA','TITAN','DRREDDY','BAJAJFINSV','INFY','BAJAJ-AUTO','BRITANNIA','ICICIBANK','KOTAKBANK','HINDUNILVR','BAJFINANCE','EICHERMOT','MARUTI','HEROMOTOCO','BHARTIARTL']\n",
    "print(len(a))\n",
    "company_data=[]\n",
    "while(1):\n",
    "    start=time.time()\n",
    "    for i in a:\n",
    "        tempstart=time.time()\n",
    "        result=nse.get_quote(i)\n",
    "        temp={}\n",
    "        for itera in values_list:\n",
    "            temp[itera]=result[itera]\n",
    "        temp[\"timestamp\"]=str(datetime.datetime.now())\n",
    "        end=time.time()\n",
    "        \n",
    "        \n",
    "        dbdata=list(db.CompanyData.find({'symbol':i}))\n",
    "        if(len(dbdata[0]['lastPrice'])==0):\n",
    "            db.CompanyData.update_one({\"symbol\":i},{\n",
    "            \"$push\" : {\n",
    "       \n",
    "        'lastPrice': temp['lastPrice'], \n",
    "        'change': temp['change'], \n",
    "        'pChange': temp['pChange'], \n",
    "        'quantityTraded': temp['quantityTraded'],\n",
    "        'totalTradedValue':temp['totalTradedValue'], \n",
    "    \n",
    "        'timestamp':temp['timestamp']\n",
    "                },\n",
    "                \"$set\" : {\n",
    "                'open': temp['open'], \n",
    "                'dayHigh': temp['dayHigh'], \n",
    "                'dayLow': temp['dayLow'], \n",
    "                'previousClose': temp['previousClose'],\n",
    "                'high52': temp['high52'], \n",
    "                'low52': temp['low52']\n",
    "                \n",
    "                }\n",
    "            })\n",
    "            clear_output()\n",
    "            print(temp)\n",
    "        elif(dbdata[0]['lastPrice'][-1] != temp['lastPrice']):\n",
    "            db.CompanyData.update_one({\"symbol\":i},{\n",
    "            \"$push\" : {\n",
    "       \n",
    "        'lastPrice': temp['lastPrice'], \n",
    "        'change': temp['change'], \n",
    "        'pChange': temp['pChange'], \n",
    "        'quantityTraded': temp['quantityTraded'],\n",
    "        'totalTradedValue':temp['totalTradedValue'], \n",
    "    \n",
    "        'timestamp':temp['timestamp']\n",
    "                },\n",
    "                \"$set\" : {\n",
    "                'open': temp['open'], \n",
    "                'dayHigh': temp['dayHigh'], \n",
    "                'dayLow': temp['dayLow'], \n",
    "                'previousClose': temp['previousClose'],\n",
    "                'high52': temp['high52'], \n",
    "                'low52': temp['low52']\n",
    "                \n",
    "                }\n",
    "            })\n",
    "            clear_output()\n",
    "            print(temp)\n",
    "        \n",
    "        "
   ]
  },
  {
   "cell_type": "code",
   "execution_count": 28,
   "metadata": {},
   "outputs": [
    {
     "name": "stdout",
     "output_type": "stream",
     "text": [
      "[]\n"
     ]
    }
   ],
   "source": [
    "\n",
    "print(dbdata)"
   ]
  },
  {
   "cell_type": "code",
   "execution_count": 27,
   "metadata": {},
   "outputs": [
    {
     "name": "stdout",
     "output_type": "stream",
     "text": [
      "{'symbol': 'ADANIPORTS', 'open': [], 'dayHigh': [], 'dayLow': [], 'previousClose': [], 'lastPrice': [], 'change': [], 'pChange': [], 'quantityTraded': [], 'totalTradedValue': [], 'high52': [], 'low52': [], 'timestamp': [], '_id': ObjectId('5fbe2a4c84dab2b886794292')}\n",
      "{'symbol': 'BPCL', 'open': [], 'dayHigh': [], 'dayLow': [], 'previousClose': [], 'lastPrice': [], 'change': [], 'pChange': [], 'quantityTraded': [], 'totalTradedValue': [], 'high52': [], 'low52': [], 'timestamp': [], '_id': ObjectId('5fbe2a4c84dab2b886794293')}\n",
      "{'symbol': 'COALINDIA', 'open': [], 'dayHigh': [], 'dayLow': [], 'previousClose': [], 'lastPrice': [], 'change': [], 'pChange': [], 'quantityTraded': [], 'totalTradedValue': [], 'high52': [], 'low52': [], 'timestamp': [], '_id': ObjectId('5fbe2a4c84dab2b886794294')}\n",
      "{'symbol': 'NTPC', 'open': [], 'dayHigh': [], 'dayLow': [], 'previousClose': [], 'lastPrice': [], 'change': [], 'pChange': [], 'quantityTraded': [], 'totalTradedValue': [], 'high52': [], 'low52': [], 'timestamp': [], '_id': ObjectId('5fbe2a4c84dab2b886794295')}\n",
      "{'symbol': 'SUNPHARMA', 'open': [], 'dayHigh': [], 'dayLow': [], 'previousClose': [], 'lastPrice': [], 'change': [], 'pChange': [], 'quantityTraded': [], 'totalTradedValue': [], 'high52': [], 'low52': [], 'timestamp': [], '_id': ObjectId('5fbe2a4c84dab2b886794296')}\n",
      "{'symbol': 'HINDALCO', 'open': [], 'dayHigh': [], 'dayLow': [], 'previousClose': [], 'lastPrice': [], 'change': [], 'pChange': [], 'quantityTraded': [], 'totalTradedValue': [], 'high52': [], 'low52': [], 'timestamp': [], '_id': ObjectId('5fbe2a4c84dab2b886794297')}\n",
      "{'symbol': 'RELIANCE', 'open': [], 'dayHigh': [], 'dayLow': [], 'previousClose': [], 'lastPrice': [], 'change': [], 'pChange': [], 'quantityTraded': [], 'totalTradedValue': [], 'high52': [], 'low52': [], 'timestamp': [], '_id': ObjectId('5fbe2a4c84dab2b886794298')}\n",
      "{'symbol': 'TATASTEEL', 'open': [], 'dayHigh': [], 'dayLow': [], 'previousClose': [], 'lastPrice': [], 'change': [], 'pChange': [], 'quantityTraded': [], 'totalTradedValue': [], 'high52': [], 'low52': [], 'timestamp': [], '_id': ObjectId('5fbe2a4c84dab2b886794299')}\n",
      "{'symbol': 'GAIL', 'open': [], 'dayHigh': [], 'dayLow': [], 'previousClose': [], 'lastPrice': [], 'change': [], 'pChange': [], 'quantityTraded': [], 'totalTradedValue': [], 'high52': [], 'low52': [], 'timestamp': [], '_id': ObjectId('5fbe2a4c84dab2b88679429a')}\n",
      "{'symbol': 'NESTLEIND', 'open': [], 'dayHigh': [], 'dayLow': [], 'previousClose': [], 'lastPrice': [], 'change': [], 'pChange': [], 'quantityTraded': [], 'totalTradedValue': [], 'high52': [], 'low52': [], 'timestamp': [], '_id': ObjectId('5fbe2a4c84dab2b88679429b')}\n",
      "{'symbol': 'SBILIFE', 'open': [], 'dayHigh': [], 'dayLow': [], 'previousClose': [], 'lastPrice': [], 'change': [], 'pChange': [], 'quantityTraded': [], 'totalTradedValue': [], 'high52': [], 'low52': [], 'timestamp': [], '_id': ObjectId('5fbe2a4c84dab2b88679429c')}\n",
      "{'symbol': 'GRASIM', 'open': [], 'dayHigh': [], 'dayLow': [], 'previousClose': [], 'lastPrice': [], 'change': [], 'pChange': [], 'quantityTraded': [], 'totalTradedValue': [], 'high52': [], 'low52': [], 'timestamp': [], '_id': ObjectId('5fbe2a4c84dab2b88679429d')}\n",
      "{'symbol': 'TCS', 'open': [], 'dayHigh': [], 'dayLow': [], 'previousClose': [], 'lastPrice': [], 'change': [], 'pChange': [], 'quantityTraded': [], 'totalTradedValue': [], 'high52': [], 'low52': [], 'timestamp': [], '_id': ObjectId('5fbe2a4c84dab2b88679429e')}\n",
      "{'symbol': 'DIVISLAB', 'open': [], 'dayHigh': [], 'dayLow': [], 'previousClose': [], 'lastPrice': [], 'change': [], 'pChange': [], 'quantityTraded': [], 'totalTradedValue': [], 'high52': [], 'low52': [], 'timestamp': [], '_id': ObjectId('5fbe2a4c84dab2b88679429f')}\n",
      "{'symbol': 'IOC', 'open': [], 'dayHigh': [], 'dayLow': [], 'previousClose': [], 'lastPrice': [], 'change': [], 'pChange': [], 'quantityTraded': [], 'totalTradedValue': [], 'high52': [], 'low52': [], 'timestamp': [], '_id': ObjectId('5fbe2a4c84dab2b8867942a0')}\n",
      "{'symbol': 'WIPRO', 'open': [], 'dayHigh': [], 'dayLow': [], 'previousClose': [], 'lastPrice': [], 'change': [], 'pChange': [], 'quantityTraded': [], 'totalTradedValue': [], 'high52': [], 'low52': [], 'timestamp': [], '_id': ObjectId('5fbe2a4c84dab2b8867942a1')}\n",
      "{'symbol': 'TATAMOTORS', 'open': [], 'dayHigh': [], 'dayLow': [], 'previousClose': [], 'lastPrice': [], 'change': [], 'pChange': [], 'quantityTraded': [], 'totalTradedValue': [], 'high52': [], 'low52': [], 'timestamp': [], '_id': ObjectId('5fbe2a4c84dab2b8867942a2')}\n",
      "{'symbol': 'ITC', 'open': [], 'dayHigh': [], 'dayLow': [], 'previousClose': [], 'lastPrice': [], 'change': [], 'pChange': [], 'quantityTraded': [], 'totalTradedValue': [], 'high52': [], 'low52': [], 'timestamp': [], '_id': ObjectId('5fbe2a4c84dab2b8867942a3')}\n",
      "{'symbol': 'TECHM', 'open': [], 'dayHigh': [], 'dayLow': [], 'previousClose': [], 'lastPrice': [], 'change': [], 'pChange': [], 'quantityTraded': [], 'totalTradedValue': [], 'high52': [], 'low52': [], 'timestamp': [], '_id': ObjectId('5fbe2a4c84dab2b8867942a4')}\n",
      "{'symbol': 'HDFCLIFE', 'open': [], 'dayHigh': [], 'dayLow': [], 'previousClose': [], 'lastPrice': [], 'change': [], 'pChange': [], 'quantityTraded': [], 'totalTradedValue': [], 'high52': [], 'low52': [], 'timestamp': [], '_id': ObjectId('5fbe2a4c84dab2b8867942a5')}\n",
      "{'symbol': 'SBIN', 'open': [], 'dayHigh': [], 'dayLow': [], 'previousClose': [], 'lastPrice': [], 'change': [], 'pChange': [], 'quantityTraded': [], 'totalTradedValue': [], 'high52': [], 'low52': [], 'timestamp': [], '_id': ObjectId('5fbe2a4c84dab2b8867942a6')}\n",
      "{'symbol': 'ONGC', 'open': [], 'dayHigh': [], 'dayLow': [], 'previousClose': [], 'lastPrice': [], 'change': [], 'pChange': [], 'quantityTraded': [], 'totalTradedValue': [], 'high52': [], 'low52': [], 'timestamp': [], '_id': ObjectId('5fbe2a4c84dab2b8867942a7')}\n",
      "{'symbol': 'UPL', 'open': [], 'dayHigh': [], 'dayLow': [], 'previousClose': [], 'lastPrice': [], 'change': [], 'pChange': [], 'quantityTraded': [], 'totalTradedValue': [], 'high52': [], 'low52': [], 'timestamp': [], '_id': ObjectId('5fbe2a4c84dab2b8867942a8')}\n",
      "{'symbol': 'HCLTECH', 'open': [], 'dayHigh': [], 'dayLow': [], 'previousClose': [], 'lastPrice': [], 'change': [], 'pChange': [], 'quantityTraded': [], 'totalTradedValue': [], 'high52': [], 'low52': [], 'timestamp': [], '_id': ObjectId('5fbe2a4c84dab2b8867942a9')}\n",
      "{'symbol': 'M&M', 'open': [], 'dayHigh': [], 'dayLow': [], 'previousClose': [], 'lastPrice': [], 'change': [], 'pChange': [], 'quantityTraded': [], 'totalTradedValue': [], 'high52': [], 'low52': [], 'timestamp': [], '_id': ObjectId('5fbe2a4c84dab2b8867942aa')}\n",
      "{'symbol': 'JSWSTEEL', 'open': [], 'dayHigh': [], 'dayLow': [], 'previousClose': [], 'lastPrice': [], 'change': [], 'pChange': [], 'quantityTraded': [], 'totalTradedValue': [], 'high52': [], 'low52': [], 'timestamp': [], '_id': ObjectId('5fbe2a4c84dab2b8867942ab')}\n",
      "{'symbol': 'POWERGRID', 'open': [], 'dayHigh': [], 'dayLow': [], 'previousClose': [], 'lastPrice': [], 'change': [], 'pChange': [], 'quantityTraded': [], 'totalTradedValue': [], 'high52': [], 'low52': [], 'timestamp': [], '_id': ObjectId('5fbe2a4c84dab2b8867942ac')}\n",
      "{'symbol': 'SHREECEM', 'open': [], 'dayHigh': [], 'dayLow': [], 'previousClose': [], 'lastPrice': [], 'change': [], 'pChange': [], 'quantityTraded': [], 'totalTradedValue': [], 'high52': [], 'low52': [], 'timestamp': [], '_id': ObjectId('5fbe2a4c84dab2b8867942ad')}\n",
      "{'symbol': 'LT', 'open': [], 'dayHigh': [], 'dayLow': [], 'previousClose': [], 'lastPrice': [], 'change': [], 'pChange': [], 'quantityTraded': [], 'totalTradedValue': [], 'high52': [], 'low52': [], 'timestamp': [], '_id': ObjectId('5fbe2a4c84dab2b8867942ae')}\n",
      "{'symbol': 'HDFCBANK', 'open': [], 'dayHigh': [], 'dayLow': [], 'previousClose': [], 'lastPrice': [], 'change': [], 'pChange': [], 'quantityTraded': [], 'totalTradedValue': [], 'high52': [], 'low52': [], 'timestamp': [], '_id': ObjectId('5fbe2a4c84dab2b8867942af')}\n",
      "{'symbol': 'ULTRACEMCO', 'open': [], 'dayHigh': [], 'dayLow': [], 'previousClose': [], 'lastPrice': [], 'change': [], 'pChange': [], 'quantityTraded': [], 'totalTradedValue': [], 'high52': [], 'low52': [], 'timestamp': [], '_id': ObjectId('5fbe2a4c84dab2b8867942b0')}\n",
      "{'symbol': 'AXISBANK', 'open': [], 'dayHigh': [], 'dayLow': [], 'previousClose': [], 'lastPrice': [], 'change': [], 'pChange': [], 'quantityTraded': [], 'totalTradedValue': [], 'high52': [], 'low52': [], 'timestamp': [], '_id': ObjectId('5fbe2a4c84dab2b8867942b1')}\n",
      "{'symbol': 'INDUSINDBK', 'open': [], 'dayHigh': [], 'dayLow': [], 'previousClose': [], 'lastPrice': [], 'change': [], 'pChange': [], 'quantityTraded': [], 'totalTradedValue': [], 'high52': [], 'low52': [], 'timestamp': [], '_id': ObjectId('5fbe2a4c84dab2b8867942b2')}\n",
      "{'symbol': 'HDFC', 'open': [], 'dayHigh': [], 'dayLow': [], 'previousClose': [], 'lastPrice': [], 'change': [], 'pChange': [], 'quantityTraded': [], 'totalTradedValue': [], 'high52': [], 'low52': [], 'timestamp': [], '_id': ObjectId('5fbe2a4c84dab2b8867942b3')}\n",
      "{'symbol': 'ASIANPAINT', 'open': [], 'dayHigh': [], 'dayLow': [], 'previousClose': [], 'lastPrice': [], 'change': [], 'pChange': [], 'quantityTraded': [], 'totalTradedValue': [], 'high52': [], 'low52': [], 'timestamp': [], '_id': ObjectId('5fbe2a4c84dab2b8867942b4')}\n",
      "{'symbol': 'CIPLA', 'open': [], 'dayHigh': [], 'dayLow': [], 'previousClose': [], 'lastPrice': [], 'change': [], 'pChange': [], 'quantityTraded': [], 'totalTradedValue': [], 'high52': [], 'low52': [], 'timestamp': [], '_id': ObjectId('5fbe2a4c84dab2b8867942b5')}\n",
      "{'symbol': 'TITAN', 'open': [], 'dayHigh': [], 'dayLow': [], 'previousClose': [], 'lastPrice': [], 'change': [], 'pChange': [], 'quantityTraded': [], 'totalTradedValue': [], 'high52': [], 'low52': [], 'timestamp': [], '_id': ObjectId('5fbe2a4c84dab2b8867942b6')}\n",
      "{'symbol': 'DRREDDY', 'open': [], 'dayHigh': [], 'dayLow': [], 'previousClose': [], 'lastPrice': [], 'change': [], 'pChange': [], 'quantityTraded': [], 'totalTradedValue': [], 'high52': [], 'low52': [], 'timestamp': [], '_id': ObjectId('5fbe2a4c84dab2b8867942b7')}\n",
      "{'symbol': 'BAJAJFINSV', 'open': [], 'dayHigh': [], 'dayLow': [], 'previousClose': [], 'lastPrice': [], 'change': [], 'pChange': [], 'quantityTraded': [], 'totalTradedValue': [], 'high52': [], 'low52': [], 'timestamp': [], '_id': ObjectId('5fbe2a4c84dab2b8867942b8')}\n",
      "{'symbol': 'INFY', 'open': [], 'dayHigh': [], 'dayLow': [], 'previousClose': [], 'lastPrice': [], 'change': [], 'pChange': [], 'quantityTraded': [], 'totalTradedValue': [], 'high52': [], 'low52': [], 'timestamp': [], '_id': ObjectId('5fbe2a4c84dab2b8867942b9')}\n",
      "{'symbol': 'BAJAJ-AUTO', 'open': [], 'dayHigh': [], 'dayLow': [], 'previousClose': [], 'lastPrice': [], 'change': [], 'pChange': [], 'quantityTraded': [], 'totalTradedValue': [], 'high52': [], 'low52': [], 'timestamp': [], '_id': ObjectId('5fbe2a4c84dab2b8867942ba')}\n",
      "{'symbol': 'BRITANNIA', 'open': [], 'dayHigh': [], 'dayLow': [], 'previousClose': [], 'lastPrice': [], 'change': [], 'pChange': [], 'quantityTraded': [], 'totalTradedValue': [], 'high52': [], 'low52': [], 'timestamp': [], '_id': ObjectId('5fbe2a4c84dab2b8867942bb')}\n",
      "{'symbol': 'ICICIBANK', 'open': [], 'dayHigh': [], 'dayLow': [], 'previousClose': [], 'lastPrice': [], 'change': [], 'pChange': [], 'quantityTraded': [], 'totalTradedValue': [], 'high52': [], 'low52': [], 'timestamp': [], '_id': ObjectId('5fbe2a4c84dab2b8867942bc')}\n",
      "{'symbol': 'KOTAKBANK', 'open': [], 'dayHigh': [], 'dayLow': [], 'previousClose': [], 'lastPrice': [], 'change': [], 'pChange': [], 'quantityTraded': [], 'totalTradedValue': [], 'high52': [], 'low52': [], 'timestamp': [], '_id': ObjectId('5fbe2a4c84dab2b8867942bd')}\n",
      "{'symbol': 'HINDUNILVR', 'open': [], 'dayHigh': [], 'dayLow': [], 'previousClose': [], 'lastPrice': [], 'change': [], 'pChange': [], 'quantityTraded': [], 'totalTradedValue': [], 'high52': [], 'low52': [], 'timestamp': [], '_id': ObjectId('5fbe2a4c84dab2b8867942be')}\n",
      "{'symbol': 'BAJFINANCE', 'open': [], 'dayHigh': [], 'dayLow': [], 'previousClose': [], 'lastPrice': [], 'change': [], 'pChange': [], 'quantityTraded': [], 'totalTradedValue': [], 'high52': [], 'low52': [], 'timestamp': [], '_id': ObjectId('5fbe2a4c84dab2b8867942bf')}\n",
      "{'symbol': 'EICHERMOT', 'open': [], 'dayHigh': [], 'dayLow': [], 'previousClose': [], 'lastPrice': [], 'change': [], 'pChange': [], 'quantityTraded': [], 'totalTradedValue': [], 'high52': [], 'low52': [], 'timestamp': [], '_id': ObjectId('5fbe2a4c84dab2b8867942c0')}\n",
      "{'symbol': 'MARUTI', 'open': [], 'dayHigh': [], 'dayLow': [], 'previousClose': [], 'lastPrice': [], 'change': [], 'pChange': [], 'quantityTraded': [], 'totalTradedValue': [], 'high52': [], 'low52': [], 'timestamp': [], '_id': ObjectId('5fbe2a4c84dab2b8867942c1')}\n",
      "{'symbol': 'HEROMOTOCO', 'open': [], 'dayHigh': [], 'dayLow': [], 'previousClose': [], 'lastPrice': [], 'change': [], 'pChange': [], 'quantityTraded': [], 'totalTradedValue': [], 'high52': [], 'low52': [], 'timestamp': [], '_id': ObjectId('5fbe2a4c84dab2b8867942c2')}\n",
      "{'symbol': 'BHARTIARTL', 'open': [], 'dayHigh': [], 'dayLow': [], 'previousClose': [], 'lastPrice': [], 'change': [], 'pChange': [], 'quantityTraded': [], 'totalTradedValue': [], 'high52': [], 'low52': [], 'timestamp': [], '_id': ObjectId('5fbe2a4c84dab2b8867942c3')}\n"
     ]
    }
   ],
   "source": [
    "a=['ADANIPORTS','BPCL','COALINDIA','NTPC','SUNPHARMA','HINDALCO','RELIANCE','TATASTEEL','GAIL','NESTLEIND','SBILIFE','GRASIM','TCS','DIVISLAB','IOC','WIPRO','TATAMOTORS','ITC','TECHM','HDFCLIFE','SBIN','ONGC','UPL','HCLTECH','M&M','JSWSTEEL','POWERGRID','SHREECEM','LT','HDFCBANK','ULTRACEMCO','AXISBANK','INDUSINDBK','HDFC','ASIANPAINT','CIPLA','TITAN','DRREDDY','BAJAJFINSV','INFY','BAJAJ-AUTO','BRITANNIA','ICICIBANK','KOTAKBANK','HINDUNILVR','BAJFINANCE','EICHERMOT','MARUTI','HEROMOTOCO','BHARTIARTL']\n",
    "import pymongo\n",
    "from IPython.display import clear_output\n",
    "import datetime\n",
    "client = pymongo.MongoClient(\"127.0.0.1\",27017)\n",
    "db = client.stocks\n",
    "for i in a:\n",
    "    temp={}\n",
    "    temp={\n",
    "    'symbol': 'BHARTIARTL', \n",
    "    'open': [], \n",
    "    'dayHigh': [], \n",
    "    'dayLow': [], \n",
    "    'previousClose': [], \n",
    "    'lastPrice': [], \n",
    "    'change': [], \n",
    "    'pChange': [], \n",
    "    'quantityTraded': [],\n",
    "    'totalTradedValue':[], \n",
    "    'high52': [], \n",
    "    'low52': [], \n",
    "    'timestamp':[]\n",
    "}\n",
    "    temp['symbol']=i\n",
    "    db.CompanyData.insert_one(temp)\n",
    "    print(temp)\n",
    "        "
   ]
  },
  {
   "cell_type": "code",
   "execution_count": 5,
   "metadata": {},
   "outputs": [
    {
     "ename": "ImportError",
     "evalue": "cannot import name 'permuations' from 'itertools' (unknown location)",
     "output_type": "error",
     "traceback": [
      "\u001b[1;31m---------------------------------------------------------------------------\u001b[0m",
      "\u001b[1;31mImportError\u001b[0m                               Traceback (most recent call last)",
      "\u001b[1;32m<ipython-input-5-9145df516281>\u001b[0m in \u001b[0;36m<module>\u001b[1;34m\u001b[0m\n\u001b[1;32m----> 1\u001b[1;33m \u001b[1;32mfrom\u001b[0m \u001b[0mitertools\u001b[0m \u001b[1;32mimport\u001b[0m \u001b[0mpermuations\u001b[0m\u001b[1;33m\u001b[0m\u001b[1;33m\u001b[0m\u001b[0m\n\u001b[0m",
      "\u001b[1;31mImportError\u001b[0m: cannot import name 'permuations' from 'itertools' (unknown location)"
     ]
    }
   ],
   "source": [
    "from itertools import permuations"
   ]
  },
  {
   "cell_type": "code",
   "execution_count": 28,
   "metadata": {},
   "outputs": [],
   "source": [
    "from itertools import permutations,combinations\n",
    " \n"
   ]
  },
  {
   "cell_type": "code",
   "execution_count": 46,
   "metadata": {},
   "outputs": [],
   "source": [
    "lis=[]\n",
    "for k in range(len([1,1,0,2])):\n",
    "    for i in (combinations([1,1,0,2],k)):\n",
    "        a=\"\"\n",
    "        for j in i:\n",
    "            a=a+str(j)\n",
    "        if(a != \"\"):\n",
    "            lis.append(int(a))\n",
    "\n",
    "prmutaionslist=set(lis)"
   ]
  },
  {
   "cell_type": "code",
   "execution_count": 47,
   "metadata": {},
   "outputs": [
    {
     "data": {
      "text/plain": [
       "{0, 1, 2, 10, 11, 12, 102, 110, 112}"
      ]
     },
     "execution_count": 47,
     "metadata": {},
     "output_type": "execute_result"
    }
   ],
   "source": [
    "prmutaionslist"
   ]
  },
  {
   "cell_type": "code",
   "execution_count": 34,
   "metadata": {},
   "outputs": [
    {
     "name": "stdout",
     "output_type": "stream",
     "text": [
      "(1, 1)\n",
      "(1, 2)\n",
      "(1, 2)\n"
     ]
    }
   ],
   "source": [
    "for i in combinations([1,1,2],2):\n",
    "    print(i)"
   ]
  },
  {
   "cell_type": "code",
   "execution_count": 44,
   "metadata": {},
   "outputs": [],
   "source": [
    "num=1234\n",
    "strnum=str(1234)\n",
    "digits=strnum.split()\n"
   ]
  },
  {
   "cell_type": "code",
   "execution_count": 45,
   "metadata": {},
   "outputs": [
    {
     "data": {
      "text/plain": [
       "['1234']"
      ]
     },
     "execution_count": 45,
     "metadata": {},
     "output_type": "execute_result"
    }
   ],
   "source": [
    "digits"
   ]
  },
  {
   "cell_type": "code",
   "execution_count": null,
   "metadata": {},
   "outputs": [],
   "source": []
  }
 ],
 "metadata": {
  "kernelspec": {
   "display_name": "Python 3",
   "language": "python",
   "name": "python3"
  },
  "language_info": {
   "codemirror_mode": {
    "name": "ipython",
    "version": 3
   },
   "file_extension": ".py",
   "mimetype": "text/x-python",
   "name": "python",
   "nbconvert_exporter": "python",
   "pygments_lexer": "ipython3",
   "version": "3.8.3"
  }
 },
 "nbformat": 4,
 "nbformat_minor": 4
}
